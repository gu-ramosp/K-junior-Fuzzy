{
 "cells": [
  {
   "cell_type": "code",
   "execution_count": 46,
   "metadata": {
    "collapsed": false
   },
   "outputs": [],
   "source": [
    "######################################################### Imports #############################################################\n",
    "\n",
    "import vrep\n",
    "import numpy as np\n",
    "import skfuzzy as fuzz\n",
    "from skfuzzy import control as ctrl\n",
    "import matplotlib.pyplot as plt"
   ]
  },
  {
   "cell_type": "code",
   "execution_count": 47,
   "metadata": {
    "collapsed": false
   },
   "outputs": [
    {
     "name": "stdout",
     "output_type": "stream",
     "text": [
      "Erro na conexão\n"
     ]
    }
   ],
   "source": [
    "################################################## Conexão com o V-rep #######################################################\n",
    "\n",
    "clientID=vrep.simxStart('127.0.0.1',19999,True,True,5000,5) # Faz conexão, se retorna -1 é que deu erro\n",
    "\n",
    "if clientID!=-1:\n",
    "    print('Conexão sucedida')\n",
    "else:\n",
    "    print(\"Erro na conexão\")"
   ]
  },
  {
   "cell_type": "code",
   "execution_count": 48,
   "metadata": {
    "collapsed": true
   },
   "outputs": [],
   "source": [
    "################################################ Declaração de Váriáveis ######################################################\n",
    "   \n",
    "    # Função np.arrange dá sequenência de numeros, dado umintervalo\n",
    "    # ctrl.Antecedent descrita na documentação do scikit-fuzzy,idem à  ctrl.Consequent\n",
    "    \n",
    "## Valores Crisp\n",
    "sensores_handle = []        #lista com os Handles dos sensores, para pegar os Handles mais fácil\n",
    "valores_sensores = []       # Lista com os valores dos sensores\n",
    "\n",
    "\n",
    "# Valores Fuzzy\n",
    "    # Antecedentes: Váriaveis à serem Fuzificada\n",
    "sensor_frente  = ctrl.Antecedent(np.arange(0,0.12, 0.01),'sensor_frente') #Vai até 0,1 Metro, pelo que eu vi na simulação\n",
    "sensores_left  = ctrl.Antecedent(np.arange(0,0.12, 0.01), 'sensores_left')\n",
    "sensores_right = ctrl.Antecedent(np.arange(0,0.12, 0.01), 'sensores_right')\n",
    "\n",
    "    # Consequentes\n",
    "v_left  = ctrl.Consequent(np.arange(0, 10, 0.5), 'v_left')         # velocidade motor esquerdo, vai de 0 à 10 (eu determinei impiricamente na simulação)\n",
    "v_right = ctrl.Consequent(np.arange(0, 10, 0.5), 'v_right')        # idem ao de cima pro motor direito"
   ]
  },
  {
   "cell_type": "code",
   "execution_count": 49,
   "metadata": {
    "collapsed": false
   },
   "outputs": [],
   "source": [
    "############################################ Declaração de Handles ############################################################\n",
    "\n",
    "# Não sei direito o que é um handle até hoje, mas chutaria que ele é uma coisa que controla o objeto real\n",
    "\n",
    "#handle do motor esquerdo, chuto que o nome do objeto seja o mesmo da simulação\n",
    "erro_code, leftMotorHandle = vrep.simxGetObjectHandle(clientID,'KJunior_wheelLeft', vrep.simx_opmode_oneshot_wait )\n",
    "\n",
    "#Handle do motor Direito\n",
    "erro_code, rightMotorHandle = vrep.simxGetObjectHandle(clientID,'KJunior_wheelLeft', vrep.simx_opmode_oneshot_wait )\n",
    "\n",
    "#Handle dos sensores, só importam os do 1 ao 5, o 3 é o sensor mais centralizado\n",
    "for i in range(5):\n",
    "    erro_code, sensor_handle = vrep.simxGetObjectHandle(clientID,'KJunior_proxSensor%d' % (i+1) , vrep.simx_opmode_oneshot_wait)\n",
    "    sensores_handle.append(sensor_handle)\n",
    "\n",
    "    # Não sei porque, mas a primeira leitura tem que ser assim\n",
    "    error_code,estado,coord,detectedObjectHandle,detectedSurfaceNormalVector = vrep.simxReadProximitySensor(clientID, sensor_handle,vrep.simx_opmode_streaming)"
   ]
  },
  {
   "cell_type": "code",
   "execution_count": 50,
   "metadata": {
    "collapsed": false
   },
   "outputs": [],
   "source": [
    "############################################# Lógica Fuzzy ################################################################\n",
    "\n",
    "## Funções de pertinencia (Também conhecidas como membership)\n",
    "    # Fuzz.trimf faz uma função de pertinencia triangulas onde [x,y,z] são os pontos do triangulo\n",
    "    \n",
    "# Sensor da frente\n",
    "sensor_frente['perto'] = fuzz.trimf(sensor_frente.universe, [0, 0, 0.065])\n",
    "sensor_frente['longe'] = fuzz.trimf(sensor_frente.universe,[0.065,0.065,0.12])\n",
    "\n",
    "# Sensor do lado esquerdo\n",
    "sensores_left['perto'] = fuzz.trimf(sensores_left.universe, [0, 0, 0.065])\n",
    "sensores_left['longe'] = fuzz.trimf(sensores_left.universe,[0.065,0.065,0.12])\n",
    "\n",
    "# Sensores do lado direito\n",
    "sensores_right['perto'] = fuzz.trimf(sensores_right.universe, [0, 0, 0.065])\n",
    "sensores_right['longe'] = fuzz.trimf(sensores_right.universe,[0.065,0.065,0.12])\n",
    "\n",
    "# Velocidade Motor esquerdo \n",
    "v_left['parado'] = fuzz.trimf(v_left.universe, [0,0,0.001])\n",
    "v_left['lento'] = fuzz.trimf(v_left.universe, [0.001,0.05,0.1])\n",
    "v_left['rapido'] = fuzz.trimf(v_left.universe, [0.05,0.1,0.1])\n",
    "\n",
    "# Velocidade motor direito\n",
    "v_right['parado'] = fuzz.trimf(v_right.universe, [0,0,0.001])\n",
    "v_right['lento'] = fuzz.trimf(v_right.universe, [0.001,0.05,0.1])\n",
    "v_right['rapido'] = fuzz.trimf(v_right.universe, [0.05,0.1,0.1])\n",
    "\n",
    "## Regras Fuzzy"
   ]
  },
  {
   "cell_type": "code",
   "execution_count": null,
   "metadata": {
    "collapsed": false
   },
   "outputs": [],
   "source": []
  }
 ],
 "metadata": {
  "anaconda-cloud": {},
  "kernelspec": {
   "display_name": "Python [conda root]",
   "language": "python",
   "name": "conda-root-py"
  },
  "language_info": {
   "codemirror_mode": {
    "name": "ipython",
    "version": 3
   },
   "file_extension": ".py",
   "mimetype": "text/x-python",
   "name": "python",
   "nbconvert_exporter": "python",
   "pygments_lexer": "ipython3",
   "version": "3.5.2"
  }
 },
 "nbformat": 4,
 "nbformat_minor": 1
}
