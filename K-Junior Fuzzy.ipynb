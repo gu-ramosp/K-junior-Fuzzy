{
 "cells": [
  {
   "cell_type": "code",
   "execution_count": null,
   "metadata": {
    "collapsed": false
   },
   "outputs": [],
   "source": [
    "######################################################### Imports #############################################################\n",
    "\n",
    "import vrep\n",
    "import numpy as np\n",
    "import skfuzzy as fuzz\n",
    "from skfuzzy import control as ctrl\n",
    "import matplotlib.pyplot as plt"
   ]
  },
  {
   "cell_type": "code",
   "execution_count": 22,
   "metadata": {
    "collapsed": false
   },
   "outputs": [
    {
     "name": "stdout",
     "output_type": "stream",
     "text": [
      "Erro na conexão\n"
     ]
    }
   ],
   "source": [
    "################################################## Conexão com o V-rep #######################################################\n",
    "\n",
    "clientID=vrep.simxStart('127.0.0.1',19999,True,True,5000,5) # Faz conexão, se retorna -1 é que deu erro\n",
    "\n",
    "if clientID!=-1:\n",
    "    print('Conexão sucedida')\n",
    "else:\n",
    "    print(\"Erro na conexão\")"
   ]
  },
  {
   "cell_type": "code",
   "execution_count": null,
   "metadata": {
    "collapsed": true
   },
   "outputs": [],
   "source": [
    "################################################ Declaração de Váriáveis ######################################################\n",
    "   \n",
    "    # Função np.arrange dá sequenência de numeros, dado umintervalo\n",
    "    # ctrl.Antecedent descrita na documentação do scikit-fuzzy,idem à  ctrl.Consequent\n",
    "    \n",
    "## Valores Crisp\n",
    "sensores_handle = []        #lista com os Handles dos sensores, para pegar os Handles mais fácil\n",
    "valores_sensores = [1,2,3,4,5]       # Lista com os valores dos sensores\n",
    "\n",
    "\n",
    "# Valores Fuzzy\n",
    "    # Antecedentes: Váriaveis à serem Fuzificada\n",
    "sensor_frente = ctrl.Antecedent(np.arange(0, 0.12, 0.01), 'sensor_frente')\n",
    "sensores_left  = ctrl.Antecedent(np.arange(0,0.12, 0.01), 'sensores_left')\n",
    "sensores_right = ctrl.Antecedent(np.arange(0, 0.12, 0.01), 'sensores_right')\n",
    "\n",
    "    # Consequentes\n",
    "v_left = ctrl.Consequent(np.arange(0, 10, 0.5 ), 'v_left') # velocidade motor esquerdo, vai de 0 à 10 (eu determinei impiricamente na simulação)\n",
    "v_right = ctrl.Consequent(np.arange(0, 10, 0.5), 'v_right') # idem ao de cima pro motor direit"
   ]
  },
  {
   "cell_type": "code",
   "execution_count": null,
   "metadata": {
    "collapsed": false
   },
   "outputs": [],
   "source": [
    "############################################ Declaração de Handles ############################################################\n",
    "\n",
    "# Não sei direito o que é um handle até hoje, mas chutaria que ele é uma coisa que controla o objeto real\n",
    "\n",
    "#handle do motor esquerdo, chuto que o nome do objeto seja o mesmo da simulação\n",
    "erro_code, leftMotorHandle = vrep.simxGetObjectHandle(clientID,'motorE', vrep.simx_opmode_oneshot_wait )\n",
    "if erro_code != 0:\n",
    "    print(\"handle nao encontrado\")\n",
    "else:\n",
    "    print(\"Conectado ao motor esquerdo\")\n",
    "#Handle do motor Direito\n",
    "erro_code, rightMotorHandle = vrep.simxGetObjectHandle(clientID,'motorD', vrep.simx_opmode_oneshot_wait )\n",
    "if erro_code != 0:\n",
    "    print(\"handle nao encontrado\")\n",
    "else:\n",
    "    print(\"Conectado ao motor  direito\")\n",
    "    \n",
    "#Handle dos sensores, só importam os do 1 ao 5, o 3 é o sensor mais centralizado\n",
    "for i in range(5):\n",
    "    erro_code, sensor_handle = vrep.simxGetObjectHandle(clientID,'KJunior_proxSensor%d' % (i+1) , vrep.simx_opmode_oneshot_wait)\n",
    "    sensores_handle.append(sensor_handle)\n",
    "    if erro_code != 0:\n",
    "        print(\"handle do sensor %d não encontrado\" %(i+1) )\n",
    "    else:\n",
    "        print(\"Conectado ao sensor %d \" %(i+1) )\n",
    "    \n",
    "    # Não sei porque, mas a primeira leitura tem que ser assim\n",
    "    error_code,estado,coord,detectedObjectHandle,detectedSurfaceNormalVector = vrep.simxReadProximitySensor(clientID, sensor_handle,vrep.simx_opmode_streaming)\n",
    "    "
   ]
  },
  {
   "cell_type": "code",
   "execution_count": null,
   "metadata": {
    "collapsed": false
   },
   "outputs": [],
   "source": [
    "############################################# Lógica Fuzzy ################################################################\n",
    "\n",
    "## Funções de pertinencia (Também conhecidas como membership)\n",
    "    # Fuzz.trimf faz uma função de pertinencia triangulas onde [x,y,z] são os pontos do triangulo\n",
    "    \n",
    "# Sensor da frente\n",
    "sensor_frente['perto'] = fuzz.trimf(sensor_frente.universe, [0, 0, 0.065])\n",
    "sensor_frente['longe'] = fuzz.trimf(sensor_frente.universe,[0.065,0.065,0.12])\n",
    "                             \n",
    "# Sensor do lado esquerdo\n",
    "sensores_left['perto'] = fuzz.trimf(sensores_left.universe, [0, 0, 0.065])\n",
    "sensores_left['longe'] = fuzz.trimf(sensores_left.universe,[0.065,0.065,0.12])\n",
    "\n",
    "# Sensores do lado direito\n",
    "sensores_right['perto'] = fuzz.trimf(sensores_right.universe, [0, 0, 0.065])\n",
    "sensores_right['longe'] = fuzz.trimf(sensores_right.universe,[0.065,0.065,0.12])\n",
    "\n",
    "# Velocidade Motor esquerdo \n",
    "v_left['parado'] = fuzz.trimf(v_left.universe, [0, 0, 0.1])\n",
    "v_left['lento'] = fuzz.trimf(v_left.universe, [1, 4, 10])\n",
    "v_left['rapido'] = fuzz.trimf(v_left.universe, [5, 10, 10])\n",
    "\n",
    "\n",
    "# Velocidade motor direito\n",
    "v_right['parado'] = fuzz.trimf(v_right.universe, [0, 0, 0.1])\n",
    "v_right['lento'] = fuzz.trimf(v_right.universe, [1, 4, 10])\n",
    "v_right['rapido'] = fuzz.trimf(v_right.universe,  [5, 10, 10])\n",
    "\n",
    "## Regras Fuzzy\n",
    "rule1 = ctrl.Rule(sensor_frente['perto'] and sensores_left['perto'] and sensores_right['perto'], v_left['parado'] )\n",
    "rule2 = ctrl.Rule(sensor_frente['longe'] and sensores_left['longe'] and sensores_right['longe'], v_left['rapido'] )\n",
    "rule3 = ctrl.Rule(sensor_frente['perto'] and sensores_left['perto'] and sensores_right['longe'], v_left['rapido'] )\n",
    "\n",
    "rule4 = ctrl.Rule(sensor_frente['perto'] and sensores_left['perto'] and sensores_right['perto'] , v_right['rapido'] )\n",
    "rule5 = ctrl.Rule(sensor_frente['longe'] and sensores_left['longe'] and sensores_right['longe'], v_right['rapido'] )\n",
    "rule6 = ctrl.Rule(sensor_frente['perto'] & sensores_left['perto'] & sensores_right['longe'], v_right['parado'] )\n",
    "# tem um bug muito estranho na regra 6 que se colocar dois and dá erro, por isso o &"
   ]
  },
  {
   "cell_type": "markdown",
   "metadata": {
    "collapsed": true
   },
   "source": [
    "## Gráficos das funções de pertinência \n"
   ]
  },
  {
   "cell_type": "code",
   "execution_count": null,
   "metadata": {
    "collapsed": false
   },
   "outputs": [],
   "source": [
    "############################# INPUTS ################################\n",
    "\n",
    "%matplotlib inline \n",
    "sensor_frente.view()\n",
    "sensores_left.view()\n",
    "sensores_right.view()"
   ]
  },
  {
   "cell_type": "code",
   "execution_count": null,
   "metadata": {
    "collapsed": false
   },
   "outputs": [],
   "source": [
    "####################################### Outputs ####################################################\n",
    "%matplotlib inline \n",
    "v_left.view()\n",
    "v_right.view()"
   ]
  },
  {
   "cell_type": "code",
   "execution_count": null,
   "metadata": {
    "collapsed": true
   },
   "outputs": [],
   "source": [
    "################################# controlando o Robô ##############################################################\n",
    "\n",
    "while vrep.simxGetConnectionId(clientID != -1): #Enquanto houver conexão com o V-rep\n",
    "    \n",
    "    #Lê os sensores do robo e os coloca na lista de valores\n",
    "    for i in range(5):\n",
    "        error_code, estado, coord, detectedObjectHandle, detectedSurfaceNormalVector = vrep.simxReadProximitySensor(clientID,sensores_handle[i], vrep.simx_opmode_buffer)\n",
    "        # Não sei pra que serve o estado, nem os dois últimos parametros retornados\n",
    "        valores_sensores[i] = coord[2] # pega apenas cordenada Z que é a que importe de verdade\n",
    "        \n",
    "        ### Sistema de controle fuzzy\n",
    "        fuzzy_ctrl = ctrl.ControlSystem([rule1, rule2, rule3,rule4,rule5,rule6]) #sistema de controle\n",
    "        kjunior = ctrl.ControlSystemSimulation(fuzzy_ctrl) #simulação do sistema de controle, pode-se criar vários para cada situação\n",
    "\n",
    "\n",
    "        #Inputs para a simulação do K-junior\n",
    "        kjunior.input['sensor_frente'] = (valores_sensores[0] + valores_sensores[1])/2 #media dos valores \n",
    "        kjunior.input['sensores_left'] = valores_sensores[2]\n",
    "        kjunior.input['sensores_right'] = (valores_sensores[3] + valores_sensores[4])/2 # media dos valores\n",
    "\n",
    "        ### Processando a simulação do controle\n",
    "        kjunior.compute()\n",
    "\n",
    "        vl = kjunior.output['v_left']         #Pega velocidade a ser passada para o motor direito\n",
    "        vr = kjunior.output['v_right']        #Pega velocidade a ser passada para o motor esquerdo\n",
    "    \n",
    "    # Passando as velocidades para o K-junior\n",
    "    \n",
    "    #Motor Esquerdo\n",
    "    erro_code = vrep.simxSetJointTargetVelocity(clientID, leftMotorHandle, 9, vrep.simx_opmode_streaming)\n",
    "    if erro_code !=0:\n",
    "        print(\"erro na atribuição de velocidade do motor esquerdo\")\n",
    "    \n",
    "    #Motor Direito\n",
    "    erro_code = vrep.simxSetJointTargetVelocity(clientID, rightMotorHandle, 9, vrep.simx_opmode_streaming)\n",
    "    if erro_code !=0:\n",
    "       print(\"erro na atribuição de velocidade do motor direito\")\n",
    " \n",
    "    "
   ]
  },
  {
   "cell_type": "markdown",
   "metadata": {},
   "source": [
    "# Teste apenas\n",
    "\n",
    "Sistema de controle fuzzy\n",
    "\n",
    "fuzzy_ctrl = ctrl.ControlSystem([rule1, rule2, rule3,rule4,rule5,rule6]) #sistema de controle\n",
    "kjunior = ctrl.ControlSystemSimulation(fuzzy_ctrl) #simulação do sistema de controle, pode-se criar vários para cada situação\n",
    "\n",
    "\n",
    "Inputs para a simulação do K-junior\n",
    "\n",
    "kjunior.input['sensor_frente'] = 0.08\n",
    "kjunior.input['sensores_left'] = 0.02\n",
    "kjunior.input['sensores_right'] = 0.1\n",
    "\n",
    "Processando a simulação do controle\n",
    "\n",
    "kjunior.compute()\n",
    "\n",
    "vl = kjunior.output['v_left']         #Pega velocidade a ser passada para o motor direito\n",
    "vr = kjunior.output['v_right']        #Pega velocidade a ser passada para o motor esquerdo\n",
    "\n",
    "print (kjunior.output)"
   ]
  },
  {
   "cell_type": "code",
   "execution_count": null,
   "metadata": {
    "collapsed": false
   },
   "outputs": [],
   "source": []
  },
  {
   "cell_type": "code",
   "execution_count": null,
   "metadata": {
    "collapsed": true
   },
   "outputs": [],
   "source": []
  }
 ],
 "metadata": {
  "anaconda-cloud": {},
  "kernelspec": {
   "display_name": "Python [conda root]",
   "language": "python",
   "name": "conda-root-py"
  },
  "language_info": {
   "codemirror_mode": {
    "name": "ipython",
    "version": 3
   },
   "file_extension": ".py",
   "mimetype": "text/x-python",
   "name": "python",
   "nbconvert_exporter": "python",
   "pygments_lexer": "ipython3",
   "version": "3.5.2"
  }
 },
 "nbformat": 4,
 "nbformat_minor": 1
}
